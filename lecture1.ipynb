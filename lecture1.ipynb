{
 "cells": [
  {
   "cell_type": "markdown",
   "id": "8b3bdbc3-7cc6-4b03-b589-0a6ed3db017f",
   "metadata": {},
   "source": [
    "# This is my notebook!\n",
    "\n",
    "## Section 1\n",
    "Here is some text\n",
    "\n",
    "## Section 2\n",
    "Here is a 🍦\n",
    "\n",
    "### Lists\n",
    "\n",
    "- item 1\n",
    "- item 2\n",
    "- item 3\n",
    "\n",
    "You can make _italics_\n",
    "\n",
    "You can **Bold**"
   ]
  },
  {
   "cell_type": "markdown",
   "id": "4cb83fef-0ef7-44cd-8bd7-9628b24f5a74",
   "metadata": {},
   "source": [
    "# Variables"
   ]
  },
  {
   "cell_type": "code",
   "execution_count": 9,
   "id": "2b91dc50-8de3-43ed-8fea-262101697a6e",
   "metadata": {},
   "outputs": [],
   "source": [
    "a = 'duck'\n",
    "b = 2\n",
    "c = 3.419\n",
    "d = 'walk'"
   ]
  },
  {
   "cell_type": "code",
   "execution_count": 10,
   "id": "8b8e1dc1-7857-4583-ae9a-83cd5448df5a",
   "metadata": {
    "editable": true,
    "slideshow": {
     "slide_type": ""
    },
    "tags": []
   },
   "outputs": [
    {
     "data": {
      "text/plain": [
       "'duckwalk'"
      ]
     },
     "execution_count": 10,
     "metadata": {},
     "output_type": "execute_result"
    }
   ],
   "source": [
    "a + d"
   ]
  },
  {
   "cell_type": "markdown",
   "id": "f3c639d3-6717-4044-8943-708d2441d0b4",
   "metadata": {},
   "source": [
    "# Loops"
   ]
  },
  {
   "cell_type": "code",
   "execution_count": null,
   "id": "4466ca2a-2822-4b0c-9780-e431d23acd33",
   "metadata": {},
   "outputs": [],
   "source": []
  }
 ],
 "metadata": {
  "kernelspec": {
   "display_name": "Python 3 ",
   "language": "python",
   "name": "python3"
  },
  "language_info": {
   "codemirror_mode": {
    "name": "ipython",
    "version": 3
   },
   "file_extension": ".py",
   "mimetype": "text/x-python",
   "name": "python",
   "nbconvert_exporter": "python",
   "pygments_lexer": "ipython3",
   "version": "3.10.14"
  }
 },
 "nbformat": 4,
 "nbformat_minor": 5
}
