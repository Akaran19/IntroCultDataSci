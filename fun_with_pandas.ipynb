{
 "cells": [
  {
   "cell_type": "markdown",
   "id": "67abb133",
   "metadata": {},
   "source": [
    "# Lab 03: Fun with `pandas`!"
   ]
  },
  {
   "cell_type": "markdown",
   "id": "0e4b3b08",
   "metadata": {},
   "source": [
    "Below are some exercises to get you working with `pandas` to manipulate data. As always, get as far as you can, and ask for help when you need it! Your teacher (me), you instructor, and your classmates are all here to help each other get better at coding. Getting the code to work is important, but do also take the time to make sure you understand what the commands are doing. This time, (with the exception of the Stroop challenge), all I've given you is the code to download the data. Then you are on your own. For the Stroop challenge, I gave the you code for the first step—after that, it's up to you :-)"
   ]
  },
  {
   "cell_type": "markdown",
   "id": "c3b21217",
   "metadata": {},
   "source": [
    "## Music sales challenge\n",
    "\n",
    "Write a script that:\n",
    "\n",
    "1. Combines the tables of best-selling physical singles and best-selling digital singles on the Wikipedia page \"List_of_best-selling_singles\"\n",
    "2. Adds a column which marks whether each row is from the list of physical singles or digital singles\n",
    "3. Outputs the artist and single name for the year you were born. If there is no entry for that year, take the closest year after you were born.\n",
    "4. Outputs the artist and single name for the year you were 15 years old."
   ]
  },
  {
   "cell_type": "code",
   "execution_count": 1,
   "id": "a20efc57",
   "metadata": {},
   "outputs": [
    {
     "name": "stdout",
     "output_type": "stream",
     "text": [
      "Requirement already satisfied: lxml in /opt/conda/lib/python3.10/site-packages (5.3.0)\n",
      "Note: you may need to restart the kernel to use updated packages.\n"
     ]
    }
   ],
   "source": [
    "# Starter code...\n",
    "\n",
    "%pip install lxml\n",
    "import pandas as pd\n",
    "\n",
    "rawdata = pd.read_html(\"https://en.wikipedia.org/wiki/List_of_best-selling_singles\")"
   ]
  },
  {
   "cell_type": "code",
   "execution_count": 2,
   "id": "06d95449-d993-409d-a99d-21730d01127a",
   "metadata": {},
   "outputs": [],
   "source": [
    "#%pip list"
   ]
  },
  {
   "cell_type": "code",
   "execution_count": 3,
   "id": "04382c4f-5347-4c89-a6ab-316b7c5aba3c",
   "metadata": {},
   "outputs": [],
   "source": [
    "#print(rawdata[3])\n",
    "\n",
    "# best selling physical sinlges: rawdata[0]\n",
    "phys_sing = pd.DataFrame(rawdata[0])\n",
    "# Best selling digital singles: rawdata[3]\n",
    "digi_sing = pd.DataFrame(rawdata[3])\n",
    "\n",
    "# Step 3: Add a new column to mark the source of each row\n",
    "phys_sing['Type'] = 'Physical'\n",
    "digi_sing['Type'] = 'Digital'\n",
    "\n",
    "# Step 4: Standardize column names (if needed) and merge the tables\n",
    "combined_singles = pd.concat([phys_sing, digi_sing], ignore_index=True)\n"
   ]
  },
  {
   "cell_type": "code",
   "execution_count": 4,
   "id": "9ae42ef8-2330-4ada-a90e-48057089b0ff",
   "metadata": {},
   "outputs": [
    {
     "name": "stdout",
     "output_type": "stream",
     "text": [
      "In the year you were born (2004): Taylor Swift - \"Love Story\"\n",
      "In the year you were 15 (2019): Billie Eilish - \"Bad Guy\"\n"
     ]
    }
   ],
   "source": [
    "# Convert the 'Released' column to numeric for easier filtering\n",
    "combined_singles['Released'] = pd.to_numeric(combined_singles['Released'], errors='coerce')\n",
    "\n",
    "# Function to get artist and single for a specific year or the closest next year\n",
    "def get_single_by_year(df, year):\n",
    "    # Find the first entry for the exact year or the closest year after it\n",
    "    result = df[df['Released'] >= year].sort_values(by='Released').iloc[0]\n",
    "    return result['Artist'], result['Single']\n",
    "\n",
    "# Input the birth year and calculate the year when the user turned 15\n",
    "birth_year = 2004 \n",
    "age_15_year = birth_year + 15\n",
    "\n",
    "# Get the single for the birth year and the year the user turned 15\n",
    "birth_year_artist, birth_year_single = get_single_by_year(combined_singles, birth_year)\n",
    "age_15_artist, age_15_single = get_single_by_year(combined_singles, age_15_year)\n",
    "\n",
    "# Output the results\n",
    "print(f\"In the year you were born ({birth_year}): {birth_year_artist} - {birth_year_single}\")\n",
    "print(f\"In the year you were 15 ({age_15_year}): {age_15_artist} - {age_15_single}\")"
   ]
  },
  {
   "cell_type": "markdown",
   "id": "eabc0ee7",
   "metadata": {},
   "source": [
    "\n",
    "## Space challenge\n",
    "\n",
    "1. Make a single dataframe that combines the space missions from the 1950's to the 2020's\n",
    "2. Write a script that returns the year with the most launches\n",
    "3. Write a script that returns the most common month for launches\n",
    "4. Write a script that ranks the months from most launches to fewest launches\n"
   ]
  },
  {
   "cell_type": "code",
   "execution_count": 5,
   "id": "e621adf3",
   "metadata": {},
   "outputs": [],
   "source": [
    "# Starter code...\n",
    "\n",
    "#%pip install lxml\n",
    "import pandas as pd\n",
    "\n",
    "rawdata = pd.read_html(\"https://en.wikipedia.org/wiki/Timeline_of_Solar_System_exploration\")"
   ]
  },
  {
   "cell_type": "code",
   "execution_count": 6,
   "id": "ea1c7289-5060-44fd-b6f5-5656779cc052",
   "metadata": {},
   "outputs": [
    {
     "name": "stdout",
     "output_type": "stream",
     "text": [
      "Index(['Mission name', 'Launch date', 'Description', 'Ref(s)'], dtype='object')\n",
      "Index(['Mission name', 'Launch date', 'Description', 'Ref(s)'], dtype='object')\n",
      "Index(['Mission name', 'Launch date', 'Description', 'Ref(s)'], dtype='object')\n",
      "Index(['Mission name', 'Launch date', 'Description', 'Ref(s)'], dtype='object')\n",
      "Index(['Mission name', 'Launch date', 'Description', 'Ref(s)'], dtype='object')\n",
      "Index(['Mission name', 'Launch date', 'Description', 'Ref(s)'], dtype='object')\n",
      "Index(['Mission name', 'Launch date', 'Description', 'Ref(s)'], dtype='object')\n",
      "Index(['Mission name', 'Launch date', 'Description', 'Ref(s)'], dtype='object')\n",
      "Index(['Mission name', 'Launch date', 'Description', 'Ref(s)'], dtype='object')\n"
     ]
    }
   ],
   "source": [
    "df_TSS = pd.DataFrame()\n",
    "\n",
    "df1 = rawdata[0]\n",
    "print(df1.columns)\n",
    "#print(type(rawdata[0]))\n",
    "\n",
    "for i in range(0,len(rawdata)-10):\n",
    "    df = rawdata[i]\n",
    "    print(df.columns)\n",
    "    df_TSS = pd.concat([df_TSS,df])\n",
    "\n",
    "# Assuming there's a 'Date' column in the format YYYY-MM-DD, convert it to datetime\n",
    "df_TSS['Launch date'] = pd.to_datetime(df_TSS['Launch date'], errors='coerce')"
   ]
  },
  {
   "cell_type": "code",
   "execution_count": 7,
   "id": "8f3f7f17-7646-40f1-baf3-dba438705340",
   "metadata": {},
   "outputs": [
    {
     "name": "stdout",
     "output_type": "stream",
     "text": [
      "The year with the most launches is 1965 with 12 launches.\n"
     ]
    }
   ],
   "source": [
    "# Find the year with the most launches\n",
    "df_TSS['Year'] = df_TSS['Launch date'].dt.year\n",
    "most_launches_year = df_TSS['Year'].value_counts().idxmax()\n",
    "most_launches_count = df_TSS['Year'].value_counts().max()\n",
    "\n",
    "print(f\"The year with the most launches is {most_launches_year} with {most_launches_count} launches.\")"
   ]
  },
  {
   "cell_type": "code",
   "execution_count": 8,
   "id": "f7b8ae2d-e7f0-4dbc-936e-700e722868bb",
   "metadata": {},
   "outputs": [
    {
     "name": "stdout",
     "output_type": "stream",
     "text": [
      "11\n",
      "The most common month for launches is month number 11 in the calendar with 30 launches.\n"
     ]
    }
   ],
   "source": [
    "# Find the most common month for launches\n",
    "df_TSS['Month'] = df_TSS['Launch date'].dt.month\n",
    "most_common_month = df_TSS['Month'].value_counts().idxmax()\n",
    "most_common_month_count = df_TSS['Month'].value_counts().max()\n",
    "\n",
    "print(most_common_month)\n",
    "print(f\"The most common month for launches is month number {most_common_month} in the calendar with {most_common_month_count} launches.\")"
   ]
  },
  {
   "cell_type": "code",
   "execution_count": 9,
   "id": "0811e362-a650-4461-88c0-3681c4e8010e",
   "metadata": {},
   "outputs": [
    {
     "name": "stdout",
     "output_type": "stream",
     "text": [
      "Ranking of months by number of launches (from most to fewest):\n",
      "Month\n",
      "November     30\n",
      "August       27\n",
      "September    22\n",
      "October      22\n",
      "July         21\n",
      "January      19\n",
      "December     19\n",
      "May          17\n",
      "March        15\n",
      "February     14\n",
      "June         14\n",
      "April        13\n",
      "Name: count, dtype: int64\n"
     ]
    }
   ],
   "source": [
    "# Rank the months from most launches to fewest\n",
    "months_ranking = df_TSS['Month'].value_counts().sort_values(ascending=False)\n",
    "months_ranking.index = months_ranking.index.map({\n",
    "    1: 'January', 2: 'February', 3: 'March', 4: 'April', 5: 'May', 6: 'June',\n",
    "    7: 'July', 8: 'August', 9: 'September', 10: 'October', 11: 'November', 12: 'December'\n",
    "})\n",
    "\n",
    "print(\"Ranking of months by number of launches (from most to fewest):\")\n",
    "print(months_ranking)"
   ]
  },
  {
   "cell_type": "markdown",
   "id": "153096e0",
   "metadata": {},
   "source": [
    "## Supervillain challenge\n",
    "\n",
    "1. Write a script that combines the tables showing supervillain debuts from the 30's through the 2010's\n",
    "2. Write a script that ranks each decade in terms of how many supervillains debuted in that decade\n",
    "3. Write a script that ranks the different comics companies in terms of how many supervillains they have, and display the results in a nice table (pandas dataframe)"
   ]
  },
  {
   "cell_type": "code",
   "execution_count": 10,
   "id": "1ec41964",
   "metadata": {},
   "outputs": [],
   "source": [
    "rawdata = pd.read_html(\"https://en.wikipedia.org/wiki/List_of_comic_book_supervillain_debuts\")\n"
   ]
  },
  {
   "cell_type": "code",
   "execution_count": 11,
   "id": "87b30bfb-c7ef-4afa-a6de-ddf989a89da9",
   "metadata": {},
   "outputs": [
    {
     "name": "stdout",
     "output_type": "stream",
     "text": [
      "0         1939 (June)\n",
      "1         1939 (July)\n",
      "2    1939 (September)\n",
      "3     1939 (December)\n",
      "0      1940 (January)\n",
      "           ...       \n",
      "4       2016 (August)\n",
      "5       2016 (August)\n",
      "6                2017\n",
      "7                2019\n",
      "8                2019\n",
      "Name: Year Debuted, Length: 636, dtype: object\n"
     ]
    }
   ],
   "source": [
    "supervillain_df = pd.DataFrame()\n",
    "for i in range(3,len(rawdata)):\n",
    "    df = rawdata[i]\n",
    "    #print(df)\n",
    "    supervillain_df = pd.concat([supervillain_df,df])\n",
    "\n",
    "print(supervillain_df[\"Year Debuted\"])"
   ]
  },
  {
   "cell_type": "code",
   "execution_count": 12,
   "id": "58a45795-a428-4a05-8762-cbffb3aac99e",
   "metadata": {},
   "outputs": [
    {
     "name": "stdout",
     "output_type": "stream",
     "text": [
      "Requirement already satisfied: ace_tools in /opt/conda/lib/python3.10/site-packages (0.0)\n",
      "Note: you may need to restart the kernel to use updated packages.\n"
     ]
    }
   ],
   "source": [
    "%pip install ace_tools"
   ]
  },
  {
   "cell_type": "code",
   "execution_count": 13,
   "id": "ae9fbf46-4e7d-4037-8504-2ba8f638b11a",
   "metadata": {},
   "outputs": [
    {
     "name": "stdout",
     "output_type": "stream",
     "text": [
      "Ranking of decades by number of supervillain debuts:\n",
      "Decade\n",
      "1930      4\n",
      "1940     47\n",
      "1950     26\n",
      "1960    228\n",
      "1970     97\n",
      "1980     92\n",
      "1990     84\n",
      "2000     49\n",
      "2010      9\n",
      "Name: count, dtype: int64\n",
      "Ranking of companies by number of supervillains:\n",
      "                     Company  Supervillain Count\n",
      "0                         DC                 338\n",
      "1                     Marvel                 264\n",
      "2          Fawcett Comics/DC                   6\n",
      "3                      Image                   5\n",
      "4                 Dark Horse                   5\n",
      "5              Marvel/Timely                   4\n",
      "6            Disney/Hyperion                   4\n",
      "7                   Eternity                   3\n",
      "8   Lev Gleason Publications                   1\n",
      "9                     Comico                   1\n",
      "10                    Mirage                   1\n",
      "11              Image Comics                   1\n"
     ]
    }
   ],
   "source": [
    "import re\n",
    "\n",
    "# Extract the decade from the 'Year' column by dividing by 10, then multiplying back by 10\n",
    "# This will handle both formats like '1939 (June)' and '2017'\n",
    "supervillain_df['Year'] = supervillain_df['Year Debuted'].apply(lambda x: int(re.search(r'\\d{4}', x).group()))\n",
    "supervillain_df['Decade'] = (supervillain_df['Year'] // 10) * 10\n",
    "\n",
    "# Count the number of debuts per decade\n",
    "decade_ranking = supervillain_df['Decade'].value_counts().sort_index()\n",
    "\n",
    "# Print the ranked decades\n",
    "print(\"Ranking of decades by number of supervillain debuts:\")\n",
    "print(decade_ranking)\n",
    "\n",
    "# Rank the different comic companies in terms of how many supervillains they have\n",
    "company_ranking = supervillain_df['Company'].value_counts().sort_values(ascending=False)\n",
    "\n",
    "# Display the company ranking in a pandas DataFrame for better presentation\n",
    "company_ranking_df = pd.DataFrame(company_ranking).reset_index()\n",
    "company_ranking_df.columns = ['Company', 'Supervillain Count']\n",
    "\n",
    "print(\"Ranking of companies by number of supervillains:\")\n",
    "print(company_ranking_df)"
   ]
  },
  {
   "cell_type": "markdown",
   "id": "a72c464a",
   "metadata": {},
   "source": [
    "## Stroop challenge\n",
    "\n",
    "Every year between 2015 and 2021, the students in my Language, Cognition, and the Brain course participated in a version of the Stroop task. Using a stopwatch (ok, using their phones), they recorded how fast they could say a list of things (either reading or naming colors or color words). The column names mean \"Reading with No Interference\", \"Naming with Interference\", \"Naming with No Interference\", and \"Reading with Interference\". The times are in seconds.\n",
    "\n",
    "### Stroop challenge 1: \n",
    "Transform these data from wide format to long format, so that the result is a dataframe with\n",
    "- 1 column named \"Participant_id\" with a unique number for each participant (you can use the row indices)\n",
    "- 1 column named \"Year\" with the year data\n",
    "- 1 column named \"Task\" that shows which task they were doing\n",
    "- 1 column named \"RT\" that shows their response time"
   ]
  },
  {
   "cell_type": "code",
   "execution_count": 19,
   "id": "6781809e",
   "metadata": {
    "scrolled": true
   },
   "outputs": [
    {
     "name": "stdout",
     "output_type": "stream",
     "text": [
      "     Reading_NoInt  Naming_Int  Naming_NoInt  Reading_Int  Year\n",
      "0             4.16        6.76          4.45         4.65  2015\n",
      "1             4.35        7.73          4.78         4.46  2015\n",
      "2             3.60        7.00          4.00         3.50  2015\n",
      "3             3.90        9.03          4.60         6.30  2015\n",
      "4             4.22        9.98          6.83         6.24  2015\n",
      "..             ...         ...           ...          ...   ...\n",
      "177           4.30        7.08          6.25         4.28  2021\n",
      "178           4.75        9.66          6.12         5.49  2021\n",
      "179           4.98        7.52          6.73         5.16  2021\n",
      "180           5.16        8.81          8.19         5.51  2021\n",
      "181           4.27       10.40          5.32         4.59  2021\n",
      "\n",
      "[182 rows x 5 columns]\n"
     ]
    }
   ],
   "source": [
    "# Starter code 1...\n",
    "\n",
    "df = pd.read_csv(\"https://raw.githubusercontent.com/ethanweed/Stroop/master/Stroop-raw-over-the-years.csv\")\n",
    "print(df)"
   ]
  },
  {
   "cell_type": "code",
   "execution_count": 20,
   "id": "9e2e3507",
   "metadata": {},
   "outputs": [
    {
     "data": {
      "text/html": [
       "<div>\n",
       "<style scoped>\n",
       "    .dataframe tbody tr th:only-of-type {\n",
       "        vertical-align: middle;\n",
       "    }\n",
       "\n",
       "    .dataframe tbody tr th {\n",
       "        vertical-align: top;\n",
       "    }\n",
       "\n",
       "    .dataframe thead th {\n",
       "        text-align: right;\n",
       "    }\n",
       "</style>\n",
       "<table border=\"1\" class=\"dataframe\">\n",
       "  <thead>\n",
       "    <tr style=\"text-align: right;\">\n",
       "      <th></th>\n",
       "      <th>Participant_id</th>\n",
       "      <th>Reading_NoInt</th>\n",
       "      <th>Naming_Int</th>\n",
       "      <th>Naming_NoInt</th>\n",
       "      <th>Reading_Int</th>\n",
       "      <th>Year</th>\n",
       "    </tr>\n",
       "  </thead>\n",
       "  <tbody>\n",
       "    <tr>\n",
       "      <th>0</th>\n",
       "      <td>0</td>\n",
       "      <td>4.16</td>\n",
       "      <td>6.76</td>\n",
       "      <td>4.45</td>\n",
       "      <td>4.65</td>\n",
       "      <td>2015</td>\n",
       "    </tr>\n",
       "    <tr>\n",
       "      <th>1</th>\n",
       "      <td>1</td>\n",
       "      <td>4.35</td>\n",
       "      <td>7.73</td>\n",
       "      <td>4.78</td>\n",
       "      <td>4.46</td>\n",
       "      <td>2015</td>\n",
       "    </tr>\n",
       "    <tr>\n",
       "      <th>2</th>\n",
       "      <td>2</td>\n",
       "      <td>3.60</td>\n",
       "      <td>7.00</td>\n",
       "      <td>4.00</td>\n",
       "      <td>3.50</td>\n",
       "      <td>2015</td>\n",
       "    </tr>\n",
       "    <tr>\n",
       "      <th>3</th>\n",
       "      <td>3</td>\n",
       "      <td>3.90</td>\n",
       "      <td>9.03</td>\n",
       "      <td>4.60</td>\n",
       "      <td>6.30</td>\n",
       "      <td>2015</td>\n",
       "    </tr>\n",
       "    <tr>\n",
       "      <th>4</th>\n",
       "      <td>4</td>\n",
       "      <td>4.22</td>\n",
       "      <td>9.98</td>\n",
       "      <td>6.83</td>\n",
       "      <td>6.24</td>\n",
       "      <td>2015</td>\n",
       "    </tr>\n",
       "    <tr>\n",
       "      <th>...</th>\n",
       "      <td>...</td>\n",
       "      <td>...</td>\n",
       "      <td>...</td>\n",
       "      <td>...</td>\n",
       "      <td>...</td>\n",
       "      <td>...</td>\n",
       "    </tr>\n",
       "    <tr>\n",
       "      <th>177</th>\n",
       "      <td>177</td>\n",
       "      <td>4.30</td>\n",
       "      <td>7.08</td>\n",
       "      <td>6.25</td>\n",
       "      <td>4.28</td>\n",
       "      <td>2021</td>\n",
       "    </tr>\n",
       "    <tr>\n",
       "      <th>178</th>\n",
       "      <td>178</td>\n",
       "      <td>4.75</td>\n",
       "      <td>9.66</td>\n",
       "      <td>6.12</td>\n",
       "      <td>5.49</td>\n",
       "      <td>2021</td>\n",
       "    </tr>\n",
       "    <tr>\n",
       "      <th>179</th>\n",
       "      <td>179</td>\n",
       "      <td>4.98</td>\n",
       "      <td>7.52</td>\n",
       "      <td>6.73</td>\n",
       "      <td>5.16</td>\n",
       "      <td>2021</td>\n",
       "    </tr>\n",
       "    <tr>\n",
       "      <th>180</th>\n",
       "      <td>180</td>\n",
       "      <td>5.16</td>\n",
       "      <td>8.81</td>\n",
       "      <td>8.19</td>\n",
       "      <td>5.51</td>\n",
       "      <td>2021</td>\n",
       "    </tr>\n",
       "    <tr>\n",
       "      <th>181</th>\n",
       "      <td>181</td>\n",
       "      <td>4.27</td>\n",
       "      <td>10.40</td>\n",
       "      <td>5.32</td>\n",
       "      <td>4.59</td>\n",
       "      <td>2021</td>\n",
       "    </tr>\n",
       "  </tbody>\n",
       "</table>\n",
       "<p>182 rows × 6 columns</p>\n",
       "</div>"
      ],
      "text/plain": [
       "     Participant_id  Reading_NoInt  Naming_Int  Naming_NoInt  Reading_Int  \\\n",
       "0                 0           4.16        6.76          4.45         4.65   \n",
       "1                 1           4.35        7.73          4.78         4.46   \n",
       "2                 2           3.60        7.00          4.00         3.50   \n",
       "3                 3           3.90        9.03          4.60         6.30   \n",
       "4                 4           4.22        9.98          6.83         6.24   \n",
       "..              ...            ...         ...           ...          ...   \n",
       "177             177           4.30        7.08          6.25         4.28   \n",
       "178             178           4.75        9.66          6.12         5.49   \n",
       "179             179           4.98        7.52          6.73         5.16   \n",
       "180             180           5.16        8.81          8.19         5.51   \n",
       "181             181           4.27       10.40          5.32         4.59   \n",
       "\n",
       "     Year  \n",
       "0    2015  \n",
       "1    2015  \n",
       "2    2015  \n",
       "3    2015  \n",
       "4    2015  \n",
       "..    ...  \n",
       "177  2021  \n",
       "178  2021  \n",
       "179  2021  \n",
       "180  2021  \n",
       "181  2021  \n",
       "\n",
       "[182 rows x 6 columns]"
      ]
     },
     "execution_count": 20,
     "metadata": {},
     "output_type": "execute_result"
    }
   ],
   "source": [
    "# Starter code 2...\n",
    "\n",
    "# Make a new column using the dataframe indices as particpant numbers\n",
    "\n",
    "df.index.name = 'Participant_id'\n",
    "df = df.reset_index()\n",
    "\n",
    "#df.reset_index(inplace = True)\n",
    "# NOTE: This line does exactly the same thing as the line above:\n",
    "# it replaces the original df with a new df with the updated index. That's what\n",
    "# \"inplace = True\" means. Or, you can just assign the dataframe with the updated index\n",
    "# to a new dataframe with the same name as the old dataframe, which is what I did above.\n",
    "# The end result is the same.\n",
    "\n",
    "df"
   ]
  },
  {
   "cell_type": "code",
   "execution_count": 21,
   "id": "a9fb96d1-1c45-4d8e-a1aa-066b814daf13",
   "metadata": {},
   "outputs": [],
   "source": [
    "# Use pandas.melt to transform the wide data to long format\n",
    "long_df = pd.melt(df, id_vars=['Participant_id', 'Year'], \n",
    "                  value_vars=['Reading_NoInt', 'Naming_Int', 'Naming_NoInt', 'Reading_Int'],\n",
    "                  var_name='Task', value_name='RT')"
   ]
  },
  {
   "cell_type": "code",
   "execution_count": 22,
   "id": "c469a7b6-aed4-43c9-81a5-eb6ae4fb655f",
   "metadata": {},
   "outputs": [
    {
     "name": "stdout",
     "output_type": "stream",
     "text": [
      "     Participant_id  Year           Task    RT\n",
      "0                 0  2015  Reading_NoInt  4.16\n",
      "1                 1  2015  Reading_NoInt  4.35\n",
      "2                 2  2015  Reading_NoInt  3.60\n",
      "3                 3  2015  Reading_NoInt  3.90\n",
      "4                 4  2015  Reading_NoInt  4.22\n",
      "..              ...   ...            ...   ...\n",
      "723             177  2021    Reading_Int  4.28\n",
      "724             178  2021    Reading_Int  5.49\n",
      "725             179  2021    Reading_Int  5.16\n",
      "726             180  2021    Reading_Int  5.51\n",
      "727             181  2021    Reading_Int  4.59\n",
      "\n",
      "[728 rows x 4 columns]\n"
     ]
    }
   ],
   "source": [
    "print(long_df)"
   ]
  },
  {
   "cell_type": "markdown",
   "id": "51655ceb",
   "metadata": {},
   "source": [
    "## Stroop challenge 2 (Advanced!!!):\n",
    "\n",
    "Make a new dataframe which shows the mean response time (in seconds) for each task for each year."
   ]
  },
  {
   "cell_type": "code",
   "execution_count": 23,
   "id": "77fcb93b",
   "metadata": {},
   "outputs": [
    {
     "name": "stdout",
     "output_type": "stream",
     "text": [
      "    Year           Task         RT\n",
      "0   2015     Naming_Int   8.617143\n",
      "1   2015   Naming_NoInt   5.123571\n",
      "2   2015    Reading_Int   4.446429\n",
      "3   2015  Reading_NoInt   3.951429\n",
      "4   2016     Naming_Int   8.859268\n",
      "5   2016   Naming_NoInt   5.405610\n",
      "6   2016    Reading_Int   5.340000\n",
      "7   2016  Reading_NoInt   4.076098\n",
      "8   2017     Naming_Int   9.311765\n",
      "9   2017   Naming_NoInt   5.771176\n",
      "10  2017    Reading_Int   5.492353\n",
      "11  2017  Reading_NoInt   4.414412\n",
      "12  2018     Naming_Int   9.372667\n",
      "13  2018   Naming_NoInt   5.298000\n",
      "14  2018    Reading_Int   4.938667\n",
      "15  2018  Reading_NoInt   3.886000\n",
      "16  2019     Naming_Int   9.536087\n",
      "17  2019   Naming_NoInt   6.345652\n",
      "18  2019    Reading_Int   6.090870\n",
      "19  2019  Reading_NoInt   4.935652\n",
      "20  2020     Naming_Int   9.740833\n",
      "21  2020   Naming_NoInt   5.962500\n",
      "22  2020    Reading_Int   4.956667\n",
      "23  2020  Reading_NoInt   4.395000\n",
      "24  2021     Naming_Int  10.105484\n",
      "25  2021   Naming_NoInt   6.387742\n",
      "26  2021    Reading_Int   7.038065\n",
      "27  2021  Reading_NoInt   4.842581\n"
     ]
    }
   ],
   "source": [
    "# Step 4: Group by 'Task' and 'Year' and calculate the mean response time\n",
    "mean_rt_df = long_df.groupby(['Year', 'Task'])['RT'].mean().reset_index()\n",
    "\n",
    "# Step 5: Display the new DataFrame with mean response time\n",
    "print(mean_rt_df)"
   ]
  },
  {
   "cell_type": "code",
   "execution_count": null,
   "id": "1351bc9f-eaaa-46c5-b07b-db916efc8e9b",
   "metadata": {},
   "outputs": [],
   "source": []
  }
 ],
 "metadata": {
  "kernelspec": {
   "display_name": "Python 3 ",
   "language": "python",
   "name": "python3"
  },
  "language_info": {
   "codemirror_mode": {
    "name": "ipython",
    "version": 3
   },
   "file_extension": ".py",
   "mimetype": "text/x-python",
   "name": "python",
   "nbconvert_exporter": "python",
   "pygments_lexer": "ipython3",
   "version": "3.10.14"
  }
 },
 "nbformat": 4,
 "nbformat_minor": 5
}
